{
 "cells": [
  {
   "cell_type": "markdown",
   "metadata": {},
   "source": [
    "# Workshop 4 (Week beginning April 20)\n",
    "# Quality control for sequencing data\n",
    "\n",
    "Suppose you had a biological question of interest that could be solved by sequencing. You've received some funding to perform a sequencing run (lucky you!). The sample is run in a sequencing machine (you know a few kinds of sequencers by now) and you are delivered a file containing all of your reads. It is possible that there were problems in the sequencer or the starting material used for sequencing (DNA). Before you perform your analysis and report your findings, you want to be sure that the data you have is of good quality. This is where quality control (QC) comes in.\n",
    "\n",
    "This week you will write your own code to perform QC on some real sequencing data.\n",
    "\n",
    "## Task 1 - Reading in the read set\n",
    "\n",
    "First, we read in some sample reads. These reads were selected from the ERR024571 read set."
   ]
  },
  {
   "cell_type": "code",
   "execution_count": null,
   "metadata": {},
   "outputs": [],
   "source": [
    "import skbio\n",
    "\n",
    "fname = 'data/ERR024571_selected.fastq' \n",
    "registry = skbio.io.read(fname, format = 'fastq', phred_offset = 33)\n",
    "readset = list(registry)\n",
    "len(readset)"
   ]
  },
  {
   "cell_type": "markdown",
   "metadata": {},
   "source": [
    "## Task 2 - Compute per sequence qualities\n",
    "\n",
    "The per sequence quality is the average of the base qualities in a sequence.\n",
    "Review the \"DNA Sequencing and short reads\" lecture to remind yourself of what these quality scores mean."
   ]
  },
  {
   "cell_type": "code",
   "execution_count": null,
   "metadata": {},
   "outputs": [],
   "source": [
    "# Display the quality scores for the first 10 bases of the first read.\n",
    "r1_meta = readset[0].positional_metadata\n",
    "r1_meta.head(10)"
   ]
  },
  {
   "cell_type": "markdown",
   "metadata": {},
   "source": [
    "### Crash course on `pandas` and `numpy`\n",
    "\n",
    "The output of the code above is a data frame object. Most data can be stored in data frames and many functions to process them are available in the `pandas` library. We will first try out a few indexing operations and write up a function to compute the per sequence quality.\n",
    "\n",
    "If you are new to `pandas`, this tutorial below will help. It is also available under the additional resources module on the LMS.\n",
    "> http://pandas.pydata.org/pandas-docs/stable/getting_started/10min.html"
   ]
  },
  {
   "cell_type": "code",
   "execution_count": null,
   "metadata": {},
   "outputs": [],
   "source": [
    "import pandas as pd\n",
    "import numpy as np\n",
    "\n",
    "# All of these indexes give the same results. Think of the data frame as a 2-D matrix.\n",
    "# Here we index using positions.\n",
    "\n",
    "print(r1_meta.iloc[:3,])\n",
    "print(r1_meta.iloc[0:3, 0:1])\n",
    "print(r1_meta.iloc[0:3, :])\n",
    "print(r1_meta.iloc[0:3,])"
   ]
  },
  {
   "cell_type": "markdown",
   "metadata": {},
   "source": [
    "Above we use information on the position along the data frame (i.e. rows 0:3 and column 0:1). Instead of this, we could use *row names* and *column names* to index. In the example below, 0:2 refers to the rows with names '0', '1', and '2' and the column with the name 'quality'. Since we slice the columns and select just one, what we get is a `numpy` array.\n",
    "\n",
    "A simple way to reason about these `numpy` arrays is to think of them as vectors and matrices. A vector or matrix with named rows and columns is a `pandas` data frame."
   ]
  },
  {
   "cell_type": "code",
   "execution_count": null,
   "metadata": {},
   "outputs": [],
   "source": [
    "# This gives the same result but returns an array rather than a data frame.\n",
    "# Here we index using names - 0, 1, and 2 are row names rather than positions.\n",
    "print(r1_meta.loc[0:2, 'quality'])"
   ]
  },
  {
   "cell_type": "code",
   "execution_count": null,
   "metadata": {},
   "outputs": [],
   "source": [
    "# Retrieve the base quality at position 3.\n",
    "r1_qualities = r1_meta.loc[:, 'quality']\n",
    "r1_qualities[2]"
   ]
  },
  {
   "cell_type": "markdown",
   "metadata": {},
   "source": [
    "We can now write a function to compute the sequence quality of a given sequence with a for loop."
   ]
  },
  {
   "cell_type": "code",
   "execution_count": null,
   "metadata": {},
   "outputs": [],
   "source": [
    "def read_quality_with_loop(read):\n",
    "    \"\"\"\n",
    "    Compute the quality of a given read (DNA sequence).\n",
    "    This is the average of base qualities.\n",
    "    Return a single floating point number.\n",
    "    \"\"\"\n",
    "\n",
    "    #retrieve metadata\n",
    "    metadata = read.positional_metadata\n",
    "    #select the column containing quality information\n",
    "    qualities = metadata.loc[:, 'quality']\n",
    "    \n",
    "    avg_quality = 0\n",
    "    for phred_score in qualities:\n",
    "        avg_quality += phred_score\n",
    "    return avg_quality / len(qualities)"
   ]
  },
  {
   "cell_type": "code",
   "execution_count": null,
   "metadata": {},
   "outputs": [],
   "source": [
    "print(read_quality_with_loop(readset[0])) # should give 27.36"
   ]
  },
  {
   "cell_type": "markdown",
   "metadata": {},
   "source": [
    "The same can be done more simply using functions from the `numpy` library. This implementation is also considerably faster."
   ]
  },
  {
   "cell_type": "code",
   "execution_count": null,
   "metadata": {},
   "outputs": [],
   "source": [
    "def read_quality(read):\n",
    "    \"\"\"\n",
    "    Compute the quality of a given read (DNA sequence).\n",
    "    This is the average of base qualities.\n",
    "    Return a single number representing the quality\n",
    "    \"\"\"\n",
    "    \n",
    "    return np.mean(read.positional_metadata.loc[:, 'quality'])\n"
   ]
  },
  {
   "cell_type": "code",
   "execution_count": null,
   "metadata": {},
   "outputs": [],
   "source": [
    "print(read_quality_with_loop(readset[0]))"
   ]
  },
  {
   "cell_type": "markdown",
   "metadata": {},
   "source": [
    "## Task 3 - Compute per sequence quality distribution\n",
    "\n",
    "We will compute per sequence qualities for all reads and compute a sequence quality histogram. This is done by binning the data. We will create bins of integers i.e. given an integer $i$ the interval is $[i, i + 1)$, that is all numbers between $i$ and $i + 1$ including $i$ but excluding $i + 1$.\n",
    "\n",
    "We will create a dictionary using this. Keys in the dictionary will be $i$ and values will be the number of quality scores falling in the interval $[i, i + 1)$.\n",
    "\n",
    "The `np.floor` function can be used to round down quality scores to the nearest integer."
   ]
  },
  {
   "cell_type": "code",
   "execution_count": null,
   "metadata": {},
   "outputs": [],
   "source": [
    "print(np.floor(30.01))\n",
    "print(np.floor(30.99))"
   ]
  },
  {
   "cell_type": "code",
   "execution_count": null,
   "metadata": {},
   "outputs": [],
   "source": [
    "def read_histogram_dict(reads):\n",
    "    \"\"\"\n",
    "    Compute a dictionary representing the histogram\n",
    "    Keys are the starting point of the interval\n",
    "    Values are the number of items in the interval\n",
    "    \"\"\"\n",
    "    \n",
    "    # compute read qualities for sequences\n",
    "    read_qualities = [read_quality(r) for r in reads]\n",
    "    # compute keys for each read\n",
    "    distribution_keys = [np.floor(r) for r in read_qualities]\n",
    "    \n",
    "    #build dictionary\n",
    "    hist_dict = {}\n",
    "    for k in distribution_keys:\n",
    "        if k in hist_dict.keys():\n",
    "            hist_dict[k] += 1\n",
    "        else:\n",
    "            hist_dict[k] = 1 #initialise key\n",
    "    return hist_dict\n"
   ]
  },
  {
   "cell_type": "code",
   "execution_count": null,
   "metadata": {},
   "outputs": [],
   "source": [
    "# Alternate implementation using the collections.Counter function which counts the occurence of items in a list\n",
    "\n",
    "import collections\n",
    "\n",
    "def read_histogram_dict(reads):\n",
    "    \"\"\"\n",
    "    Compute a dictionary representing the histogram\n",
    "    Keys are the starting point of the interval\n",
    "    Values are the number of items in the interval\n",
    "    \"\"\"\n",
    "    \n",
    "    #get keys\n",
    "    distribution_keys = [np.floor(read_quality(r)) for r in reads]\n",
    "    return dict(collections.Counter(distribution_keys))"
   ]
  },
  {
   "cell_type": "code",
   "execution_count": null,
   "metadata": {},
   "outputs": [],
   "source": [
    "read_histogram_dict(readset[0:4]) # should give {27.0: 2, 28.0: 1, 26.0: 1}"
   ]
  },
  {
   "cell_type": "markdown",
   "metadata": {},
   "source": [
    "Let's get to plotting! \n",
    "We use the `matplotlib` library to create simple plots. You can learn more about `matplotlib` using the link below. The link is also available on the additional resources module on the LMS.\n",
    ">https://matplotlib.org/tutorials/introductory/usage.html#sphx-glr-tutorials-introductory-usage-py"
   ]
  },
  {
   "cell_type": "code",
   "execution_count": null,
   "metadata": {},
   "outputs": [],
   "source": [
    "%matplotlib inline\n",
    "import matplotlib.pyplot as plt\n",
    "\n",
    "hist_data = read_histogram_dict(readset)\n",
    "plt.scatter(hist_data.keys(), hist_data.values())\n",
    "plt.xlabel('Phred quality score')\n",
    "plt.ylabel('Frequency')\n",
    "plt.show()"
   ]
  },
  {
   "cell_type": "markdown",
   "metadata": {},
   "source": [
    "## Task 4 - Use FastQC to perform the analysis\n",
    "\n",
    "The above analysis and more can be performed using the FastQC program. We will use this to analyse all of the forward reads (rather than just the selection we have been using up to this point). \n",
    "\n",
    "You can invoke a terminal command from a Jupyter notebook by preceeding it with an exclamation mark as in the cell below (or you can just type the command in the terminal directly).\n",
    "\n",
    "You can access the help menu with the command `fastqc -h`.\n",
    "\n",
    "Note: fastqc is already installed on the COMP90016 server. To install it on a personal device, use the conda command `conda install -c bioconda fastqc`."
   ]
  },
  {
   "cell_type": "code",
   "execution_count": null,
   "metadata": {},
   "outputs": [],
   "source": [
    "!fastqc -o ./ data/ERR024571_1.fastq.gz"
   ]
  },
  {
   "cell_type": "markdown",
   "metadata": {},
   "source": [
    "The report can be viewed by right clicking the file (.html) and selecting *Open in New Browser Tab*"
   ]
  },
  {
   "cell_type": "markdown",
   "metadata": {},
   "source": [
    "## Task 5 - What does this all mean?\n",
    "\n",
    "The report information about several QC metrics.\n",
    "\n",
    "You should refer to this documentation to help you figure out what some of the metrics mean: \n",
    ">https://dnacore.missouri.edu/PDF/FastQC_Manual.pdf\n",
    "\n",
    "Try answering some of these questions:\n",
    "\n",
    "1. How many reads are in the read set?\n",
    "2. How long are the reads?\n",
    "3. Are all the reads the same length?\n",
    "4. How are the quality scores distributed across the length of the reads?\n",
    "5. Are there any overrepresented sequences?\n",
    "6. What is the likely source of the overrepresented sequeces?\n",
    "7. Overall, is this read set of acceptable quality?\n"
   ]
  },
  {
   "cell_type": "markdown",
   "metadata": {},
   "source": [
    "FastQC outputs a report for an individual FASTQ file. When dealing with multiple read sets, MultiQC provides a summary of all FastQC reports. See https://multiqc.info/ and have a look at the example reports."
   ]
  },
  {
   "cell_type": "markdown",
   "metadata": {},
   "source": [
    "This is just one layer of quality control. More QC would need to be done, depending on type of analysis. For example, if RNA-seq was performed for the purpose of differential expression analysis, further checks and filters would be applied such as filtering out of genes with low read counts. QC should form an important component of all analyses. Ultimately, it can save a lot of time and effort.\n"
   ]
  },
  {
   "cell_type": "markdown",
   "metadata": {},
   "source": [
    "Thank you to Dr. Dieter Bulach and Dharmesh Bhuva for developing the tutorial material. Updated by Steven Morgan."
   ]
  }
 ],
 "metadata": {
  "kernelspec": {
   "display_name": "Python 3",
   "language": "python",
   "name": "python3"
  },
  "language_info": {
   "codemirror_mode": {
    "name": "ipython",
    "version": 3
   },
   "file_extension": ".py",
   "mimetype": "text/x-python",
   "name": "python",
   "nbconvert_exporter": "python",
   "pygments_lexer": "ipython3",
   "version": "3.7.3"
  }
 },
 "nbformat": 4,
 "nbformat_minor": 2
}
